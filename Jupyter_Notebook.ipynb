{
 "cells": [
  {
   "cell_type": "markdown",
   "metadata": {},
   "source": [
    "<center>\n",
    "    <img src=\"https://cf-courses-data.s3.us.cloud-object-storage.appdomain.cloud/IBMDeveloperSkillsNetwork-DS0105EN-SkillsNetwork/labs/Module2/images/SN_web_lightmode.png\" width=\"300\" alt=\"cognitiveclass.ai logo\">\n",
    "</center>\n"
   ]
  },
  {
   "cell_type": "markdown",
   "metadata": {},
   "source": [
    "#### Add your code below following the instructions given in the course\n"
   ]
  },
  {
   "cell_type": "code",
   "execution_count": 1,
   "metadata": {
    "tags": []
   },
   "outputs": [],
   "source": [
    "#Introduction to Data Science"
   ]
  },
  {
   "cell_type": "markdown",
   "metadata": {},
   "source": [
    "This notebook provides a brief overview of data science, including commonly used languages, libraries, and tools. We'll also explore some basic arithmetic operations in Python."
   ]
  },
  {
   "cell_type": "markdown",
   "metadata": {},
   "source": [
    "**Data Science Languages**\n",
    "\n",
    "* Python\n",
    "* R\n",
    "* SQL\n",
    "* Julia\n",
    "* Scala"
   ]
  },
  {
   "cell_type": "markdown",
   "metadata": {},
   "source": [
    "**Data Science Libraries**\n",
    "\n",
    "* **Python:** NumPy, Pandas, Matplotlib, Seaborn, Scikit-learn, TensorFlow, PyTorch\n",
    "* **R:** dplyr, ggplot2, caret, tidyverse\n",
    "* **SQL:** PostgreSQL, MySQL, SQLite"
   ]
  },
  {
   "cell_type": "markdown",
   "metadata": {},
   "source": [
    "| Tool | Description |\n",
    "|---|---|\n",
    "| Jupyter Notebook | Interactive environment for data analysis and visualization |\n",
    "| RStudio | Integrated development environment for R |\n",
    "| Anaconda | Python distribution with popular data science packages |\n",
    "| Google Colab | Cloud-based Jupyter Notebook environment |"
   ]
  },
  {
   "cell_type": "markdown",
   "metadata": {},
   "source": [
    "**Arithmetic Expressions**\n",
    "\n",
    "Let's explore some basic arithmetic operations in Python:\n",
    "\n",
    "* Addition: `+`\n",
    "* Subtraction: `-`\n",
    "* Multiplication: `*`\n",
    "* Division: `/`"
   ]
  },
  {
   "cell_type": "code",
   "execution_count": 2,
   "metadata": {
    "tags": []
   },
   "outputs": [
    {
     "name": "stdout",
     "output_type": "stream",
     "text": [
      "Result: 34\n"
     ]
    }
   ],
   "source": [
    "# Multiplication and addition\n",
    "result = (10 * 3) + 4\n",
    "print(\"Result:\", result)"
   ]
  },
  {
   "cell_type": "code",
   "execution_count": 3,
   "metadata": {
    "tags": []
   },
   "outputs": [
    {
     "name": "stdout",
     "output_type": "stream",
     "text": [
      "Hours: 2.0\n"
     ]
    }
   ],
   "source": [
    "# Minutes to hours\n",
    "minutes = 120\n",
    "hours = minutes / 60\n",
    "print(\"Hours:\", hours)"
   ]
  },
  {
   "cell_type": "markdown",
   "metadata": {},
   "source": [
    "**Objectives**\n",
    "\n",
    "* Understand the fundamental concepts of data science\n",
    "* Learn about popular data science languages, libraries, and tools\n",
    "* Practice basic arithmetic operations in Python"
   ]
  },
  {
   "cell_type": "code",
   "execution_count": null,
   "metadata": {},
   "outputs": [],
   "source": []
  }
 ],
 "metadata": {
  "kernelspec": {
   "display_name": "Python",
   "language": "python",
   "name": "conda-env-python-py"
  },
  "language_info": {
   "codemirror_mode": {
    "name": "ipython",
    "version": 3
   },
   "file_extension": ".py",
   "mimetype": "text/x-python",
   "name": "python",
   "nbconvert_exporter": "python",
   "pygments_lexer": "ipython3",
   "version": "3.7.12"
  }
 },
 "nbformat": 4,
 "nbformat_minor": 4
}
